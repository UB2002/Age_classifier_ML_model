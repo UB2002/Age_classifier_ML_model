{
 "cells": [
  {
   "cell_type": "code",
   "execution_count": 15,
   "id": "6c9585d3",
   "metadata": {},
   "outputs": [
    {
     "name": "stdout",
     "output_type": "stream",
     "text": [
      "hello world\n"
     ]
    }
   ],
   "source": [
    "print(\"hello world\")"
   ]
  },
  {
   "cell_type": "code",
   "execution_count": null,
   "id": "c568be7b",
   "metadata": {},
   "outputs": [],
   "source": [
    "\n",
    "'''\n",
    "this script is used to split the dataset into training and validation sets\n",
    "'''\n",
    "\n",
    "# import os, shutil\n",
    "# import random\n",
    "\n",
    "# source_dir = 'dataset'\n",
    "# target_dir = 'data'\n",
    "# train_ratio = 0.8  # 80% training, 20% validation\n",
    "\n",
    "# os.makedirs(f'{target_dir}/train', exist_ok=True)\n",
    "# os.makedirs(f'{target_dir}/val', exist_ok=True)\n",
    "\n",
    "# for age in os.listdir(source_dir):\n",
    "#     age_path = os.path.join(source_dir, age)\n",
    "#     if not os.path.isdir(age_path):\n",
    "#         continue\n",
    "\n",
    "#     images = os.listdir(age_path)\n",
    "#     random.shuffle(images)\n",
    "#     split = int(train_ratio * len(images))\n",
    "#     train_images = images[:split]\n",
    "#     val_images = images[split:]\n",
    "\n",
    "#     for phase, img_list in zip(['train', 'val'], [train_images, val_images]):\n",
    "#         out_dir = os.path.join(target_dir, phase, age)\n",
    "#         os.makedirs(out_dir, exist_ok=True)\n",
    "#         for img in img_list:\n",
    "#             shutil.copy(os.path.join(age_path, img), os.path.join(out_dir, img))\n"
   ]
  },
  {
   "cell_type": "code",
   "execution_count": 17,
   "id": "21af19da",
   "metadata": {},
   "outputs": [],
   "source": [
    "import os\n",
    "import torch\n",
    "import torch.nn as nn\n",
    "import torch.optim as optim\n",
    "from torch.utils.data import Dataset, DataLoader\n",
    "from torchvision import transforms\n",
    "from PIL import Image\n"
   ]
  },
  {
   "cell_type": "code",
   "execution_count": null,
   "id": "913d1a61",
   "metadata": {},
   "outputs": [],
   "source": [
    "class FaceAgeDataset(Dataset):\n",
    "    def __init__(self, root_dir, transform=None):\n",
    "        self.root_dir = root_dir\n",
    "        self.transform = transform\n",
    "        self.samples = [] \n",
    "        for age_folder in os.listdir(root_dir):\n",
    "            age_path = os.path.join(root_dir, age_folder)\n",
    "            if not os.path.isdir(age_path):\n",
    "                continue\n",
    "            try:\n",
    "                age = int(age_folder)\n",
    "            except ValueError:\n",
    "                continue\n",
    "            for fname in os.listdir(age_path):\n",
    "                if fname.lower().endswith(('.png', '.jpg', '.jpeg')):\n",
    "                    self.samples.append((os.path.join(age_path, fname), age))\n",
    "\n",
    "    def __len__(self):\n",
    "        return len(self.samples)\n",
    "\n",
    "    def __getitem__(self, idx):\n",
    "        img_path, age = self.samples[idx]\n",
    "        image = Image.open(img_path).convert('RGB')\n",
    "        if self.transform:\n",
    "            image = self.transform(image)\n",
    "        return image, age"
   ]
  },
  {
   "cell_type": "code",
   "execution_count": null,
   "id": "f5d978c8",
   "metadata": {},
   "outputs": [],
   "source": [
    "class AgeClassifierCNN(nn.Module):\n",
    "    def __init__(self, num_classes=100):\n",
    "        super(AgeClassifierCNN, self).__init__()\n",
    "        self.features = nn.Sequential(\n",
    "            nn.Conv2d(3, 32, kernel_size=3, padding=1),\n",
    "            nn.ReLU(),\n",
    "            nn.MaxPool2d(2),\n",
    "            nn.Conv2d(32, 64, kernel_size=3, padding=1),\n",
    "            nn.ReLU(),\n",
    "            nn.MaxPool2d(2),\n",
    "            nn.Conv2d(64, 128, kernel_size=3, padding=1),\n",
    "            nn.ReLU(),\n",
    "            nn.MaxPool2d(2)\n",
    "        )\n",
    "        self.classifier = nn.Sequential(\n",
    "            nn.Linear(128 * 28 * 28, 256),\n",
    "            nn.Dropout(0.5),\n",
    "            nn.Linear(256, num_classes)\n",
    "        )\n",
    "\n",
    "    def forward(self, x):\n",
    "        x = self.features(x)\n",
    "        x = x.view(x.size(0), -1)\n",
    "        x = self.classifier(x)\n",
    "        return x"
   ]
  },
  {
   "cell_type": "code",
   "execution_count": null,
   "id": "86e2d228",
   "metadata": {},
   "outputs": [],
   "source": [
    "def train_model(data_dir, epochs=10, batch_size=16, lr=1e-3):\n",
    "\n",
    "    transform = transforms.Compose([\n",
    "        transforms.Resize((224, 224)),\n",
    "        transforms.ToTensor(),\n",
    "        transforms.Normalize(mean=[0.485, 0.456, 0.406], std=[0.229, 0.224, 0.225])\n",
    "    ])\n",
    "\n",
    "    \n",
    "    train_dataset = FaceAgeDataset(os.path.join(data_dir, 'train'), transform)\n",
    "    val_dataset = FaceAgeDataset(os.path.join(data_dir, 'val'), transform)\n",
    "    train_loader = DataLoader(train_dataset, batch_size=batch_size, shuffle=True)\n",
    "    val_loader = DataLoader(val_dataset, batch_size=batch_size)\n",
    "\n",
    "    \n",
    "    device = torch.device('cuda' if torch.cuda.is_available() else 'cpu')\n",
    "    model = AgeClassifierCNN(num_classes=100).to(device)\n",
    "    criterion = nn.CrossEntropyLoss()\n",
    "    optimizer = optim.Adam(model.parameters(), lr=lr)\n",
    "\n",
    "    for epoch in range(epochs):\n",
    "        model.train()\n",
    "        running_loss = 0.0\n",
    "        correct = 0\n",
    "        total = 0\n",
    "        for images, ages in train_loader:\n",
    "            images, ages = images.to(device), ages.to(device)\n",
    "            optimizer.zero_grad()\n",
    "            outputs = model(images)\n",
    "            loss = criterion(outputs, ages)\n",
    "            loss.backward()\n",
    "            optimizer.step()\n",
    "\n",
    "            running_loss += loss.item() * images.size(0)\n",
    "            _, preds = torch.max(outputs, 1)\n",
    "            correct += (preds == ages).sum().item()\n",
    "            total += ages.size(0)\n",
    "\n",
    "        train_loss = running_loss / total\n",
    "        train_acc = correct / total\n",
    "\n",
    "        \n",
    "        model.eval()\n",
    "        val_loss = 0.0\n",
    "        val_correct = 0\n",
    "        val_total = 0\n",
    "        with torch.no_grad():\n",
    "            for images, ages in val_loader:\n",
    "                images, ages = images.to(device), ages.to(device)\n",
    "                outputs = model(images)\n",
    "                loss = criterion(outputs, ages)\n",
    "                val_loss += loss.item() * images.size(0)\n",
    "                _, preds = torch.max(outputs, 1)\n",
    "                val_correct += (preds == ages).sum().item()\n",
    "                val_total += ages.size(0)\n",
    "        val_loss /= val_total\n",
    "        val_acc = val_correct / val_total\n",
    "\n",
    "        print(f\"Epoch {epoch+1}/{epochs} | \"\n",
    "              f\"Train Loss: {train_loss:.4f}, Train Acc: {train_acc:.4f} | \"\n",
    "              f\"Val Loss: {val_loss:.4f}, Val Acc: {val_acc:.4f}\")\n",
    "\n",
    "    \n",
    "    torch.save(model.state_dict(), 'age_classifier.pth')"
   ]
  },
  {
   "cell_type": "code",
   "execution_count": 21,
   "id": "e26aa534",
   "metadata": {},
   "outputs": [
    {
     "name": "stdout",
     "output_type": "stream",
     "text": [
      "Epoch 1/5 | Train Loss: 6.2631, Train Acc: 0.0179 | Val Loss: 3.3088, Val Acc: 0.1429\n",
      "Epoch 2/5 | Train Loss: 3.6542, Train Acc: 0.1250 | Val Loss: 3.5654, Val Acc: 0.1429\n",
      "Epoch 3/5 | Train Loss: 3.4757, Train Acc: 0.1429 | Val Loss: 2.8414, Val Acc: 0.1429\n",
      "Epoch 4/5 | Train Loss: 2.9815, Train Acc: 0.1429 | Val Loss: 2.4719, Val Acc: 0.0714\n",
      "Epoch 5/5 | Train Loss: 2.5809, Train Acc: 0.1786 | Val Loss: 2.1960, Val Acc: 0.0000\n"
     ]
    }
   ],
   "source": [
    "data_directory = './data'\n",
    "train_model(data_directory, epochs=5, batch_size=32)"
   ]
  },
  {
   "cell_type": "code",
   "execution_count": null,
   "id": "5665ae8a",
   "metadata": {},
   "outputs": [
    {
     "name": "stdout",
     "output_type": "stream",
     "text": [
      "Predicted age class: 60\n"
     ]
    }
   ],
   "source": [
    "import torch\n",
    "from torchvision import transforms\n",
    "from PIL import Image\n",
    "\n",
    "model = AgeClassifierCNN(num_classes=100)\n",
    "model.load_state_dict(torch.load('age_classifier.pth', map_location=torch.device('cpu')))\n",
    "model.eval()\n",
    "\n",
    "\n",
    "transform = transforms.Compose([\n",
    "    transforms.Resize((224, 224)),\n",
    "    transforms.ToTensor(),\n",
    "    transforms.Normalize(mean=[0.485, 0.456, 0.406], std=[0.229, 0.224, 0.225])\n",
    "])\n",
    "\n",
    "\n",
    "sample_image_path = 'dataset/20/image1.jpg'\n",
    "image = Image.open(sample_image_path).convert('RGB')\n",
    "input_tensor = transform(image).unsqueeze(0)\n",
    "\n",
    "with torch.no_grad():\n",
    "    output = model(input_tensor)\n",
    "    predicted_class = torch.argmax(output, 1).item()\n",
    "    print(f'Predicted age class: {predicted_class}')"
   ]
  }
 ],
 "metadata": {
  "kernelspec": {
   "display_name": "venv",
   "language": "python",
   "name": "python3"
  },
  "language_info": {
   "codemirror_mode": {
    "name": "ipython",
    "version": 3
   },
   "file_extension": ".py",
   "mimetype": "text/x-python",
   "name": "python",
   "nbconvert_exporter": "python",
   "pygments_lexer": "ipython3",
   "version": "3.12.4"
  }
 },
 "nbformat": 4,
 "nbformat_minor": 5
}
